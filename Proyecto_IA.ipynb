{
  "nbformat": 4,
  "nbformat_minor": 0,
  "metadata": {
    "colab": {
      "name": "Proyecto_IA.ipynb",
      "provenance": [],
      "authorship_tag": "ABX9TyNB0Dxdc7vbyOTa3JbU5jOS",
      "include_colab_link": true
    },
    "kernelspec": {
      "name": "python3",
      "display_name": "Python 3"
    },
    "language_info": {
      "name": "python"
    }
  },
  "cells": [
    {
      "cell_type": "markdown",
      "metadata": {
        "id": "view-in-github",
        "colab_type": "text"
      },
      "source": [
        "<a href=\"https://colab.research.google.com/github/garciafred/Proyecto-IA/blob/main/Proyecto_IA.ipynb\" target=\"_parent\"><img src=\"https://colab.research.google.com/assets/colab-badge.svg\" alt=\"Open In Colab\"/></a>"
      ]
    },
    {
      "cell_type": "code",
      "execution_count": 18,
      "metadata": {
        "colab": {
          "base_uri": "https://localhost:8080/",
          "height": 577
        },
        "id": "riFrrUEoT-XR",
        "outputId": "b58a7390-7528-4845-ee63-f1381c1c82c8"
      },
      "outputs": [
        {
          "output_type": "stream",
          "name": "stdout",
          "text": [
            "   age  sex  cp  trestbps  chol  fbs  restecg  thalach  exang  oldpeak  slope  \\\n",
            "0   52    1   0       125   212    0        1      168      0      1.0      2   \n",
            "1   53    1   0       140   203    1        0      155      1      3.1      0   \n",
            "2   70    1   0       145   174    0        1      125      1      2.6      0   \n",
            "3   61    1   0       148   203    0        1      161      0      0.0      2   \n",
            "4   62    0   0       138   294    1        1      106      0      1.9      1   \n",
            "\n",
            "   ca  thal  target  \n",
            "0   2     3       0  \n",
            "1   0     3       0  \n",
            "2   0     3       0  \n",
            "3   1     3       0  \n",
            "4   3     2       0  \n"
          ]
        },
        {
          "output_type": "display_data",
          "data": {
            "text/plain": [
              "<Figure size 432x288 with 1 Axes>"
            ],
            "image/png": "[encoded data removed]"
          },
          "metadata": {
            "needs_background": "light"
          }
        },
        {
          "output_type": "stream",
          "name": "stdout",
          "text": [
            "SCORE PCA:  0.7857142857142857\n",
            "SCORE IPCA:  0.8051948051948052\n",
            "Metricas cross_validation [0.84027778 0.86111111 0.88811189 0.85314685 0.8041958 ]\n",
            "Media de cross_validation 0.8493686868686868\n",
            "Metrica en Test 0.8051948051948052\n"
          ]
        }
      ],
      "source": [
        "# Se importan las bibliotecas generales\n",
        " \n",
        "import pandas as pd\n",
        "import sklearn\n",
        "import matplotlib.pyplot as plt \n",
        " \n",
        "# Se importan los módulos específicos\n",
        " \n",
        "from sklearn.decomposition import PCA\n",
        "from sklearn.decomposition import IncrementalPCA\n",
        " \n",
        "#Para probar rendimiento de las implementaciones se utiliza clasificador \n",
        "from sklearn.linear_model import LogisticRegression\n",
        "\n",
        "#Para preparar los datos antes del entrenamiento\n",
        "from sklearn.preprocessing import StandardScaler #Para normalizar los datos\n",
        "from sklearn.model_selection import train_test_split #Para partir datos (prue y entr)\n",
        "\n",
        "#Para validación cruzada\n",
        "from sklearn.model_selection import cross_val_score\n",
        "from sklearn.model_selection import KFold\n",
        "from sklearn import datasets, metrics\n",
        "\n",
        "#Identificar archivo principal \n",
        "if __name__ == \"__main__\": \n",
        "\n",
        "   kf = KFold(n_splits=5)\n",
        "   clf = LogisticRegression()\n",
        "   clf.fit(X_train, y_train)\n",
        "   score = clf.score(X_train,y_train)\n",
        "   scores = cross_val_score(clf, X_train, y_train, cv=kf, scoring=\"accuracy\")\n",
        "   # Para cargar los datos del dataframe de pandas\n",
        "   dt_heart = pd.read_csv('Heart.csv')\n",
        " \n",
        "   # Imprimir un encabezado con los primeros 5 registros\n",
        "   print(dt_heart.head(5))\n",
        " \n",
        "   # Guardar el dataset sin la columna de target\n",
        "   dt_features = dt_heart.drop(['target'], axis=1)\n",
        "   # El dataset, pero sin la columna\n",
        "   dt_target = dt_heart['target']\n",
        " \n",
        "   # Se normalizan los datos\n",
        "   dt_features = StandardScaler().fit_transform(dt_features)\n",
        "  \n",
        "   # Partiendo del conjunto de entrenamiento. Para añadir replicabilidad se utiliza el random state\n",
        "   X_train, X_test, y_train, y_test = train_test_split(dt_features, dt_target, test_size=0.3, random_state=42)\n",
        "   \n",
        "   #Llamar y configurar PCA, por defecto n_componentes= min(n_muestras, n_features)\n",
        "   pca = PCA(n_components=3)\n",
        "   pca.fit(X_train)\n",
        "\n",
        "   #Batch es para crear pequeños bloques, para ir entrenandolos poco a poco y combinarlos en el resultado final\n",
        "   ipca =IncrementalPCA(n_components=3, batch_size=10)\n",
        "   ipca.fit(X_train)\n",
        "\n",
        "   #Representación gráfica de la varianza de los componentes que se extraen\n",
        "   plt.plot(range(len(pca.explained_variance_)), pca.explained_variance_ratio_)\n",
        "   plt.show()\n",
        "   \n",
        "   #Configurar regresión logística\n",
        "   logistic = LogisticRegression(solver='lbfgs')\n",
        "\n",
        "   # Configurar los datos de entrenamiento aplicando PCA\n",
        "   dt_train = pca.transform(X_train)\n",
        "   dt_test = pca.transform(X_test)\n",
        "\n",
        "   # Ahora mandar los data frames la la regresión logística\n",
        "   logistic.fit(dt_train, y_train) \n",
        "\n",
        "   #Para calcular exactitud de la predicción\n",
        "   print(\"SCORE PCA: \", logistic.score(dt_test, y_test))\n",
        "\n",
        "   # Lo mismo pero con IPCA\n",
        "   dt_train = ipca.transform(X_train)\n",
        "   dt_test = ipca.transform(X_test)\n",
        "   logistic.fit(dt_train, y_train)\n",
        "   print(\"SCORE IPCA: \", logistic.score(dt_test, y_test))\n",
        "\n",
        "   scores = cross_val_score(clf, X_train, y_train, cv=kf, scoring=\"accuracy\")\n",
        "   print(\"Metricas cross_validation\", scores)\n",
        "   print(\"Media de cross_validation\", scores.mean())\n",
        "   preds = clf.predict(X_test)\n",
        "   score_pred = metrics.accuracy_score(y_test, preds)\n",
        "   print(\"Metrica en Test\", score_pred)\n"
      ]
    }
  ]
}